{
 "cells": [
  {
   "cell_type": "code",
   "execution_count": 1,
   "metadata": {},
   "outputs": [
    {
     "name": "stderr",
     "output_type": "stream",
     "text": [
      "Using TensorFlow backend.\n"
     ]
    }
   ],
   "source": [
    "from keras.datasets import cifar10\n",
    "import matplotlib.pyplot as plt\n",
    "import numpy as np\n",
    "from keras.models import Sequential\n",
    "from keras.layers import Dense, Conv2D,MaxPool2D, Dropout, Flatten\n",
    "\n",
    "from keras.optimizers import adam\n",
    "from keras.callbacks import Callback, ModelCheckpoint\n",
    "from keras.utils import np_utils\n",
    "from keras import backend as K\n",
    "K.set_image_dim_ordering('tf')"
   ]
  },
  {
   "cell_type": "code",
   "execution_count": 24,
   "metadata": {},
   "outputs": [],
   "source": [
    "(X_train,Y_train),(X_test,Y_test) = cifar10.load_data()"
   ]
  },
  {
   "cell_type": "code",
   "execution_count": 3,
   "metadata": {},
   "outputs": [
    {
     "name": "stdout",
     "output_type": "stream",
     "text": [
      "(50000, 32, 32, 3)\n",
      "(50000, 1)\n",
      "(10000, 32, 32, 3)\n"
     ]
    }
   ],
   "source": [
    "print(x_train.shape)\n",
    "print(y_train.shape)\n",
    "print(x_test.shape)"
   ]
  },
  {
   "cell_type": "code",
   "execution_count": 25,
   "metadata": {},
   "outputs": [
    {
     "data": {
      "text/plain": [
       "<matplotlib.image.AxesImage at 0x7fdfc41ceba8>"
      ]
     },
     "execution_count": 25,
     "metadata": {},
     "output_type": "execute_result"
    },
    {
     "data": {
      "image/png": "[encoded data removed]",
      "text/plain": [
       "<Figure size 432x288 with 1 Axes>"
      ]
     },
     "metadata": {
      "needs_background": "light"
     },
     "output_type": "display_data"
    }
   ],
   "source": [
    "plt.imshow(X_test[4])"
   ]
  },
  {
   "cell_type": "code",
   "execution_count": 5,
   "metadata": {},
   "outputs": [
    {
     "data": {
      "text/plain": [
       "array([[ 65,  68,  50],\n",
       "       [ 70,  81,  64],\n",
       "       [ 48,  64,  46],\n",
       "       [ 30,  46,  30],\n",
       "       [ 23,  33,  22],\n",
       "       [ 40,  57,  36],\n",
       "       [ 44,  75,  55],\n",
       "       [ 45,  80,  57],\n",
       "       [ 45,  83,  59],\n",
       "       [ 40,  70,  54],\n",
       "       [ 10,  20,  12],\n",
       "       [ 15,  34,  18],\n",
       "       [ 44,  71,  43],\n",
       "       [ 53,  75,  44],\n",
       "       [ 51,  70,  49],\n",
       "       [ 48,  66,  50],\n",
       "       [ 65,  87,  58],\n",
       "       [ 90, 120,  77],\n",
       "       [ 93, 124,  81],\n",
       "       [ 91, 121,  77],\n",
       "       [ 95, 126,  83],\n",
       "       [ 81, 108,  78],\n",
       "       [ 60,  84,  56],\n",
       "       [ 55,  82,  57],\n",
       "       [112, 136,  97],\n",
       "       [111, 129,  93],\n",
       "       [ 41,  59,  31],\n",
       "       [ 68,  91,  58],\n",
       "       [ 77,  96,  65],\n",
       "       [ 51,  67,  41],\n",
       "       [ 54,  76,  53],\n",
       "       [ 67,  87,  66]], dtype=uint8)"
      ]
     },
     "execution_count": 5,
     "metadata": {},
     "output_type": "execute_result"
    }
   ],
   "source": [
    "X_test[4][0]"
   ]
  },
  {
   "cell_type": "markdown",
   "metadata": {},
   "source": [
    "### x_train = x_train.astype('float32')\n",
    "x_test = x_test.astype('float32')"
   ]
  },
  {
   "cell_type": "code",
   "execution_count": 26,
   "metadata": {},
   "outputs": [
    {
     "data": {
      "text/plain": [
       "array([[-0.86839437, -0.82162904, -1.10222107],\n",
       "       [-0.79045214, -0.61897924, -0.88398282],\n",
       "       [-1.13339796, -0.88398282, -1.16457485],\n",
       "       [-1.41398999, -1.16457485, -1.41398999],\n",
       "       [-1.52310911, -1.36722465, -1.53869756],\n",
       "       [-1.25810553, -0.99310194, -1.32045931],\n",
       "       [-1.19575174, -0.71250991, -1.02427884],\n",
       "       [-1.1801633 , -0.63456768, -0.99310194],\n",
       "       [-1.1801633 , -0.58780235, -0.96192505],\n",
       "       [-1.25810553, -0.79045214, -1.03986728],\n",
       "       [-1.72575891, -1.56987445, -1.69458202],\n",
       "       [-1.64781668, -1.3516362 , -1.60105134],\n",
       "       [-1.19575174, -0.7748637 , -1.21134019],\n",
       "       [-1.05545573, -0.71250991, -1.19575174],\n",
       "       [-1.08663262, -0.79045214, -1.11780951],\n",
       "       [-1.13339796, -0.85280593, -1.10222107],\n",
       "       [-0.86839437, -0.52544856, -0.9775135 ],\n",
       "       [-0.47868322, -0.01102984, -0.68133302],\n",
       "       [-0.43191788,  0.05132394, -0.61897924],\n",
       "       [-0.46309478,  0.00455861, -0.68133302],\n",
       "       [-0.40074099,  0.08250084, -0.58780235],\n",
       "       [-0.61897924, -0.19809119, -0.66574458],\n",
       "       [-0.9463366 , -0.5722139 , -1.00869039],\n",
       "       [-1.02427884, -0.60339079, -0.99310194],\n",
       "       [-0.13573741,  0.2383853 , -0.3695641 ],\n",
       "       [-0.15132586,  0.12926617, -0.43191788],\n",
       "       [-1.24251708, -0.96192505, -1.39840154],\n",
       "       [-0.82162904, -0.46309478, -0.9775135 ],\n",
       "       [-0.68133302, -0.38515255, -0.86839437],\n",
       "       [-1.08663262, -0.83721748, -1.24251708],\n",
       "       [-1.03986728, -0.69692147, -1.05545573],\n",
       "       [-0.83721748, -0.52544856, -0.85280593]])"
      ]
     },
     "execution_count": 26,
     "metadata": {},
     "output_type": "execute_result"
    }
   ],
   "source": [
    "mean = np.mean(X_train,axis = (0,1,2,3))\n",
    "std = np.std(X_train,axis = (0,1,2,3))\n",
    "x_train = (X_train-mean)/(std+1e-7)\n",
    "x_test = (X_test-mean)/(std+1e-7)\n",
    "x_test[4][0]"
   ]
  },
  {
   "cell_type": "code",
   "execution_count": 27,
   "metadata": {},
   "outputs": [
    {
     "name": "stdout",
     "output_type": "stream",
     "text": [
      "[6]\n",
      "[0. 0. 0. 0. 0. 0. 1. 0. 0. 0.]\n"
     ]
    }
   ],
   "source": [
    "nClasses = 10\n",
    "print(Y_train[0])\n",
    "y_train = np_utils.to_categorical(Y_train,nClasses)\n",
    "y_test = np_utils.to_categorical(Y_test,nClasses)\n",
    "print(y_train[0])"
   ]
  },
  {
   "cell_type": "code",
   "execution_count": 48,
   "metadata": {},
   "outputs": [
    {
     "name": "stdout",
     "output_type": "stream",
     "text": [
      "(32, 32, 3)\n"
     ]
    }
   ],
   "source": [
    "input_shape = x_train[0].shape\n",
    "print(input_shape)"
   ]
  },
  {
   "cell_type": "code",
   "execution_count": 9,
   "metadata": {},
   "outputs": [],
   "source": [
    "def createModel():\n",
    "    model = Sequential()\n",
    "    model.add(Conv2D(32,kernel_size=3,activation='relu',\n",
    "                    input_shape=input_shape))\n",
    "    model.add(Dropout(0.3))\n",
    "    model.add(Conv2D(32,kernel_size=3,activation='relu',\n",
    "                    input_shape = (30,30,32)))\n",
    "    model.add(MaxPool2D(2))\n",
    "    model.add(Conv2D(64,kernel_size=3,activation='relu',\n",
    "                    input_shape=(14,14,32)))\n",
    "    model.add(Dropout(0.3))\n",
    "    model.add(Conv2D(64,kernel_size=3,activation='relu',\n",
    "                    input_shape=(12,12,64)))\n",
    "    model.add(MaxPool2D(2))\n",
    "    model.add(Conv2D(128,kernel_size=5,activation='relu',\n",
    "                    input_shape=(5,5,64)))\n",
    "    model.add(Flatten())\n",
    "    model.add(Dense(84,activation='relu'))\n",
    "    model.add(Dense(10,activation='softmax'))\n",
    "    \n",
    "    return model"
   ]
  },
  {
   "cell_type": "code",
   "execution_count": 10,
   "metadata": {},
   "outputs": [],
   "source": [
    "K.clear_session()\n",
    "model = createModel()"
   ]
  },
  {
   "cell_type": "code",
   "execution_count": 11,
   "metadata": {},
   "outputs": [
    {
     "name": "stdout",
     "output_type": "stream",
     "text": [
      "_________________________________________________________________\n",
      "Layer (type)                 Output Shape              Param #   \n",
      "=================================================================\n",
      "conv2d_1 (Conv2D)            (None, 30, 30, 32)        896       \n",
      "_________________________________________________________________\n",
      "dropout_1 (Dropout)          (None, 30, 30, 32)        0         \n",
      "_________________________________________________________________\n",
      "conv2d_2 (Conv2D)            (None, 28, 28, 32)        9248      \n",
      "_________________________________________________________________\n",
      "max_pooling2d_1 (MaxPooling2 (None, 14, 14, 32)        0         \n",
      "_________________________________________________________________\n",
      "conv2d_3 (Conv2D)            (None, 12, 12, 64)        18496     \n",
      "_________________________________________________________________\n",
      "dropout_2 (Dropout)          (None, 12, 12, 64)        0         \n",
      "_________________________________________________________________\n",
      "conv2d_4 (Conv2D)            (None, 10, 10, 64)        36928     \n",
      "_________________________________________________________________\n",
      "max_pooling2d_2 (MaxPooling2 (None, 5, 5, 64)          0         \n",
      "_________________________________________________________________\n",
      "conv2d_5 (Conv2D)            (None, 1, 1, 128)         204928    \n",
      "_________________________________________________________________\n",
      "flatten_1 (Flatten)          (None, 128)               0         \n",
      "_________________________________________________________________\n",
      "dense_1 (Dense)              (None, 84)                10836     \n",
      "_________________________________________________________________\n",
      "dense_2 (Dense)              (None, 10)                850       \n",
      "=================================================================\n",
      "Total params: 282,182\n",
      "Trainable params: 282,182\n",
      "Non-trainable params: 0\n",
      "_________________________________________________________________\n"
     ]
    }
   ],
   "source": [
    "model.summary()"
   ]
  },
  {
   "cell_type": "code",
   "execution_count": 12,
   "metadata": {},
   "outputs": [],
   "source": [
    "model.compile(optimizer='adam', loss='categorical_crossentropy', \n",
    "              metrics=['accuracy'])"
   ]
  },
  {
   "cell_type": "code",
   "execution_count": 13,
   "metadata": {},
   "outputs": [
    {
     "name": "stdout",
     "output_type": "stream",
     "text": [
      "Train on 40000 samples, validate on 10000 samples\n",
      "Epoch 1/25\n",
      "40000/40000 [==============================] - 65s 2ms/step - loss: 1.4694 - acc: 0.4663 - val_loss: 1.1559 - val_acc: 0.5893\n",
      "Epoch 2/25\n",
      "40000/40000 [==============================] - 65s 2ms/step - loss: 1.0637 - acc: 0.6210 - val_loss: 0.9560 - val_acc: 0.6631\n",
      "Epoch 3/25\n",
      "40000/40000 [==============================] - 64s 2ms/step - loss: 0.8948 - acc: 0.6856 - val_loss: 0.9804 - val_acc: 0.6521\n",
      "Epoch 4/25\n",
      "40000/40000 [==============================] - 65s 2ms/step - loss: 0.8030 - acc: 0.7174 - val_loss: 0.8180 - val_acc: 0.7163\n",
      "Epoch 5/25\n",
      "40000/40000 [==============================] - 65s 2ms/step - loss: 0.7393 - acc: 0.7422 - val_loss: 0.8124 - val_acc: 0.7163\n",
      "Epoch 6/25\n",
      "40000/40000 [==============================] - 64s 2ms/step - loss: 0.6772 - acc: 0.7621 - val_loss: 0.8147 - val_acc: 0.7194\n",
      "Epoch 7/25\n",
      "40000/40000 [==============================] - 64s 2ms/step - loss: 0.6406 - acc: 0.7752 - val_loss: 0.7825 - val_acc: 0.7260\n",
      "Epoch 8/25\n",
      "40000/40000 [==============================] - 64s 2ms/step - loss: 0.6039 - acc: 0.7875 - val_loss: 0.7804 - val_acc: 0.7371\n",
      "Epoch 9/25\n",
      "40000/40000 [==============================] - 64s 2ms/step - loss: 0.5700 - acc: 0.7995 - val_loss: 0.8186 - val_acc: 0.7195\n",
      "Epoch 10/25\n",
      "40000/40000 [==============================] - 65s 2ms/step - loss: 0.5508 - acc: 0.8068 - val_loss: 0.7907 - val_acc: 0.7346\n",
      "Epoch 11/25\n",
      "40000/40000 [==============================] - 66s 2ms/step - loss: 0.5213 - acc: 0.8171 - val_loss: 0.8173 - val_acc: 0.7364\n",
      "Epoch 12/25\n",
      "40000/40000 [==============================] - 65s 2ms/step - loss: 0.5064 - acc: 0.8218 - val_loss: 0.8300 - val_acc: 0.7346\n",
      "Epoch 13/25\n",
      "40000/40000 [==============================] - 65s 2ms/step - loss: 0.4818 - acc: 0.8305 - val_loss: 0.8473 - val_acc: 0.7339\n",
      "Epoch 14/25\n",
      "40000/40000 [==============================] - 65s 2ms/step - loss: 0.4647 - acc: 0.8358 - val_loss: 0.8604 - val_acc: 0.7296\n",
      "Epoch 15/25\n",
      "40000/40000 [==============================] - 65s 2ms/step - loss: 0.4490 - acc: 0.8440 - val_loss: 0.8227 - val_acc: 0.7405\n",
      "Epoch 16/25\n",
      "40000/40000 [==============================] - 65s 2ms/step - loss: 0.4355 - acc: 0.8480 - val_loss: 0.8346 - val_acc: 0.7407\n",
      "Epoch 17/25\n",
      "40000/40000 [==============================] - 65s 2ms/step - loss: 0.4174 - acc: 0.8537 - val_loss: 0.8757 - val_acc: 0.7337\n",
      "Epoch 18/25\n",
      "40000/40000 [==============================] - 65s 2ms/step - loss: 0.4103 - acc: 0.8583 - val_loss: 0.9233 - val_acc: 0.7191\n",
      "Epoch 19/25\n",
      "40000/40000 [==============================] - 65s 2ms/step - loss: 0.3948 - acc: 0.8611 - val_loss: 0.9015 - val_acc: 0.7290\n",
      "Epoch 20/25\n",
      "40000/40000 [==============================] - 65s 2ms/step - loss: 0.3889 - acc: 0.8648 - val_loss: 0.8731 - val_acc: 0.7377\n",
      "Epoch 21/25\n",
      "40000/40000 [==============================] - 65s 2ms/step - loss: 0.3730 - acc: 0.8684 - val_loss: 0.9217 - val_acc: 0.7313\n",
      "Epoch 22/25\n",
      "40000/40000 [==============================] - 65s 2ms/step - loss: 0.3694 - acc: 0.8727 - val_loss: 0.9120 - val_acc: 0.7301\n",
      "Epoch 23/25\n",
      "40000/40000 [==============================] - 64s 2ms/step - loss: 0.3592 - acc: 0.8746 - val_loss: 0.9558 - val_acc: 0.7241\n",
      "Epoch 24/25\n",
      "40000/40000 [==============================] - 65s 2ms/step - loss: 0.3497 - acc: 0.8811 - val_loss: 0.9240 - val_acc: 0.7347\n",
      "Epoch 25/25\n",
      "40000/40000 [==============================] - 65s 2ms/step - loss: 0.3486 - acc: 0.8792 - val_loss: 0.9616 - val_acc: 0.7344\n"
     ]
    }
   ],
   "source": [
    "checkpoint = ModelCheckpoint('weights.hdf5',monitor='val_loss',save_best_only=True)\n",
    "callbacks_list=[checkpoint]\n",
    "training = model.fit(x_train,y_train,validation_split=0.2,\n",
    "         epochs = 25, batch_size = 20,callbacks=callbacks_list)"
   ]
  },
  {
   "cell_type": "code",
   "execution_count": 16,
   "metadata": {},
   "outputs": [],
   "source": [
    "model.load_weights('weights.hdf5')"
   ]
  },
  {
   "cell_type": "code",
   "execution_count": 17,
   "metadata": {},
   "outputs": [
    {
     "name": "stdout",
     "output_type": "stream",
     "text": [
      "10000/10000 [==============================] - 3s 293us/step\n"
     ]
    },
    {
     "data": {
      "text/plain": [
       "[0.8054370625317097, 0.7316000024229288]"
      ]
     },
     "execution_count": 17,
     "metadata": {},
     "output_type": "execute_result"
    }
   ],
   "source": [
    "model.evaluate(x_test,y_test,batch_size=25)"
   ]
  },
  {
   "cell_type": "code",
   "execution_count": 18,
   "metadata": {},
   "outputs": [
    {
     "ename": "NameError",
     "evalue": "name 'show_images' is not defined",
     "output_type": "error",
     "traceback": [
      "\u001b[0;31m---------------------------------------------------------------------------\u001b[0m",
      "\u001b[0;31mNameError\u001b[0m                                 Traceback (most recent call last)",
      "\u001b[0;32m<ipython-input-18-5ca9e4e2cf29>\u001b[0m in \u001b[0;36m<module>\u001b[0;34m\u001b[0m\n\u001b[0;32m----> 1\u001b[0;31m \u001b[0mshow_images\u001b[0m\u001b[0;34m(\u001b[0m\u001b[0mx_test\u001b[0m\u001b[0;34m[\u001b[0m\u001b[0;34m:\u001b[0m\u001b[0;36m16\u001b[0m\u001b[0;34m]\u001b[0m\u001b[0;34m)\u001b[0m\u001b[0;34m\u001b[0m\u001b[0;34m\u001b[0m\u001b[0m\n\u001b[0m",
      "\u001b[0;31mNameError\u001b[0m: name 'show_images' is not defined"
     ]
    }
   ],
   "source": [
    "show_images(x_test[:16])"
   ]
  },
  {
   "cell_type": "code",
   "execution_count": 46,
   "metadata": {},
   "outputs": [
    {
     "name": "stderr",
     "output_type": "stream",
     "text": [
      "Clipping input data to the valid range for imshow with RGB data ([0..1] for floats or [0..255] for integers).\n",
      "Clipping input data to the valid range for imshow with RGB data ([0..1] for floats or [0..255] for integers).\n",
      "Clipping input data to the valid range for imshow with RGB data ([0..1] for floats or [0..255] for integers).\n",
      "Clipping input data to the valid range for imshow with RGB data ([0..1] for floats or [0..255] for integers).\n",
      "Clipping input data to the valid range for imshow with RGB data ([0..1] for floats or [0..255] for integers).\n",
      "Clipping input data to the valid range for imshow with RGB data ([0..1] for floats or [0..255] for integers).\n",
      "Clipping input data to the valid range for imshow with RGB data ([0..1] for floats or [0..255] for integers).\n",
      "Clipping input data to the valid range for imshow with RGB data ([0..1] for floats or [0..255] for integers).\n",
      "Clipping input data to the valid range for imshow with RGB data ([0..1] for floats or [0..255] for integers).\n",
      "Clipping input data to the valid range for imshow with RGB data ([0..1] for floats or [0..255] for integers).\n",
      "Clipping input data to the valid range for imshow with RGB data ([0..1] for floats or [0..255] for integers).\n",
      "Clipping input data to the valid range for imshow with RGB data ([0..1] for floats or [0..255] for integers).\n",
      "Clipping input data to the valid range for imshow with RGB data ([0..1] for floats or [0..255] for integers).\n",
      "Clipping input data to the valid range for imshow with RGB data ([0..1] for floats or [0..255] for integers).\n",
      "Clipping input data to the valid range for imshow with RGB data ([0..1] for floats or [0..255] for integers).\n",
      "Clipping input data to the valid range for imshow with RGB data ([0..1] for floats or [0..255] for integers).\n"
     ]
    },
    {
     "data": {
      "image/png": "[encoded data removed]",
      "text/plain": [
       "<Figure size 576x576 with 16 Axes>"
      ]
     },
     "metadata": {
      "needs_background": "light"
     },
     "output_type": "display_data"
    }
   ],
   "source": [
    "w=10\n",
    "h=10\n",
    "fig=plt.figure(figsize=(8, 8))\n",
    "columns = 4\n",
    "rows = 4\n",
    "for i in range(1,columns*rows+1):\n",
    "    img = x_test[i-1]\n",
    "    fig.add_subplot(rows, columns, i)\n",
    "    plt.imshow(img)\n",
    "plt.show()"
   ]
  },
  {
   "cell_type": "code",
   "execution_count": 19,
   "metadata": {},
   "outputs": [],
   "source": [
    "labels =  ['airplane','automobile','bird','cat','deer','dog','frog','horse','ship','truck']"
   ]
  },
  {
   "cell_type": "code",
   "execution_count": 44,
   "metadata": {},
   "outputs": [
    {
     "name": "stdout",
     "output_type": "stream",
     "text": [
      "True\n",
      "['cat', 'ship', 'ship', 'airplane', 'frog', 'frog', 'automobile', 'frog', 'cat', 'automobile', 'airplane', 'truck', 'dog', 'horse', 'truck', 'ship']\n",
      "Predicted\n",
      "['dog', 'ship', 'ship', 'airplane', 'frog', 'frog', 'automobile', 'frog', 'cat', 'automobile', 'airplane', 'truck', 'dog', 'horse', 'truck', 'ship']\n"
     ]
    }
   ],
   "source": [
    "indices = np.argmax(model.predict(x_test[:16]),1)\n",
    "print('True')\n",
    "print([labels[int(Y_test[x])] for x in range(16)])\n",
    "print('Predicted')\n",
    "print ([labels[x] for x in indices])"
   ]
  },
  {
   "cell_type": "code",
   "execution_count": null,
   "metadata": {},
   "outputs": [],
   "source": []
  }
 ],
 "metadata": {
  "kernelspec": {
   "display_name": "Python 3",
   "language": "python",
   "name": "python3"
  },
  "language_info": {
   "codemirror_mode": {
    "name": "ipython",
    "version": 3
   },
   "file_extension": ".py",
   "mimetype": "text/x-python",
   "name": "python",
   "nbconvert_exporter": "python",
   "pygments_lexer": "ipython3",
   "version": "3.6.8"
  }
 },
 "nbformat": 4,
 "nbformat_minor": 4
}
